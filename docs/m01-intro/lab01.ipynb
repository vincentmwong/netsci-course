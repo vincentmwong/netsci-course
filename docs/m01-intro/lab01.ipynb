{
 "cells": [
  {
   "cell_type": "markdown",
   "metadata": {},
   "source": [
    "<table class=\"m01-notebook-buttons\" align=\"left\">\n",
    "  <td>\n",
    "    <a target=\"_blank\" href=\"https://colab.research.google.com/github/yy/netsci-course/blob/master/m01-getready/Python%20Introduction%20Assignment.ipynb\"><img src=\"https://www.tensorflow.org/images/colab_logo_32px.png\" />Run in Google Colab</a>\n",
    "  </td>\n",
    "  <td>\n",
    "    <a href=\"https://github.com/yy/netsci-course/blob/master/m01-getready/Python%20Introduction%20Assignment.ipynb\"><img src=\"https://www.tensorflow.org/images/GitHub-Mark-32px.png\" />View on Github</a>\n",
    "  </td>\n",
    "</table>"
   ]
  },
  {
   "cell_type": "markdown",
   "metadata": {},
   "source": [
    "# Praxis: Introducing Python and Jupyter notebook\n",
    "\n",
    "\n",
    " 1. If you have not already, download and install Anaconda (Python3) on your laptop. If you are more comfortable with installing Python pacakges by yourself with `pip`, you can certainly do that too. \n",
    "  \n",
    " 1. Run `jupyter notebook` from terminal. What do you see? Can you create a new notebook?\n",
    "\n",
    " 1. Run the \"Hello world!\" code below in your created notebook\n",
    "\n",
    "    ```\n",
    "    print('Hello world!')\n",
    "    ```\n",
    "\n",
    " 1. Read the following tutorials and run any code that you do not understand\n",
    "  \n",
    "  * https://docs.python.org/3.7/tutorial/introduction.html \n",
    "  * https://docs.python.org/3.7/tutorial/controlflow.html\n",
    "  \n",
    " 1. Import `networkx`. \n",
    " \n",
    "    ```\n",
    "    import networkx as nx\n",
    "    ```\n",
    " \n",
    " It should already be installed with Anaconda, if it isn't then you will get an error message, after which you can install from the commandline with: \n",
    " \n",
    "    ```\n",
    "    conda install networkx. \n",
    "    ```\n",
    "    \n",
    " If running the import command produces no output then you should be good to continue. \n",
    "  \n",
    " 1. Rename your notebook as this `pysetup_lastname_firstname` and submit to Canvas in the Python Setup assignment section."
   ]
  }
 ],
 "metadata": {
  "anaconda-cloud": {},
  "kernelspec": {
   "display_name": "Python 3",
   "language": "python",
   "name": "python3"
  },
  "language_info": {
   "codemirror_mode": {
    "name": "ipython",
    "version": 3
   },
   "file_extension": ".py",
   "mimetype": "text/x-python",
   "name": "python",
   "nbconvert_exporter": "python",
   "pygments_lexer": "ipython3",
   "version": "3.6.3"
  }
 },
 "nbformat": 4,
 "nbformat_minor": 1
}
