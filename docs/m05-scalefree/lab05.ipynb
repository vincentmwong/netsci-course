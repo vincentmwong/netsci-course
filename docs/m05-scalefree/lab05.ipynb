{
 "cells": [
  {
   "attachments": {},
   "cell_type": "markdown",
   "metadata": {},
   "source": [
    "# BA model and scale-free networks\n",
    "\n",
    "<div style=\"display: flex; align-items: center;\">\n",
    "    <a target=\"_blank\" href=\"https://colab.research.google.com/github/yy/netsci-course/blob/master/docs/m05-scalefree/lab05.ipynb\">\n",
    "        <img src=\"https://www.tensorflow.org/images/colab_logo_32px.png\" style=\"vertical-align: -8px; margin-right: 10px;\" />\n",
    "        Open this notebook in Google Colab\n",
    "    </a>\n",
    "</div>\n",
    "\n",
    "\n",
    "<div style=\"display: flex; align-items: center;\">\n",
    "    <a href=\"https://raw.githubusercontent.com/yy/netsci-course/master/docs/m05-scalefree/lab05.ipynb\" download>\n",
    "        <img src=\"http://yyahn.com/netsci-course/images/download_icon.png\" style=\"vertical-align: -8px; margin-right: 10px;\" />\n",
    "        Download this notebook (File -> Save As)\n",
    "    </a>\n",
    "</div>"
   ]
  },
  {
   "attachments": {},
   "cell_type": "markdown",
   "metadata": {
    "id": "XtLwnyz-Ys9j"
   },
   "source": [
    "## Implement BA algorithm\n",
    "\n",
    "For this assignment you will be implementing the BA algorithm from the reading (see [Barabasi Ch 5.3](http://barabasi.com/networksciencebook/)). Create a function that takes `n`, the number of nodes for the graph, and `m0` the initial number of nodes, as arguments and returns a networkx graph with a power-law degree distribution.\n",
    "\n",
    "The first step is figuring out how to do \"preferential attachment\" based on the degree of existing nodes. In other words, a node with degree 10 should be 10 times more likely to get a new edge than a node with degree 1 and 5 times more likely than a node with degree 2. How can we do this? \n",
    "\n",
    "If we just sample from a list containing all nodes, the probability of choosing a node is same for all nodes. "
   ]
  },
  {
   "cell_type": "code",
   "execution_count": 2,
   "metadata": {},
   "outputs": [
    {
     "name": "stdout",
     "output_type": "stream",
     "text": [
      "[5]\n"
     ]
    }
   ],
   "source": [
    "import random \n",
    "\n",
    "node_list = [0,1,2,3,4,5]\n",
    "print(random.sample(node_list, 1))"
   ]
  },
  {
   "cell_type": "markdown",
   "metadata": {},
   "source": [
    "Can we make a list where node 0 is 7 times more likely to be chosen than node 1?\n",
    "\n",
    "A simple way to do this is to simply repeat the node 0 seven times in the list. Then, when we sample a node from the list, we are 7 times more likely to choose node 0 than node 1."
   ]
  },
  {
   "cell_type": "code",
   "execution_count": 4,
   "metadata": {
    "id": "GQZErbFjYs9p"
   },
   "outputs": [
    {
     "data": {
      "text/plain": [
       "[[0], [2], [0], [5], [0], [0], [0], [0], [0], [0]]"
      ]
     },
     "execution_count": 4,
     "metadata": {},
     "output_type": "execute_result"
    }
   ],
   "source": [
    "node_list = [0, 0, 0, 0, 0, 0, 0, 1, 2, 3, 4, 5]\n",
    "[random.sample(node_list, 1) for i in range(10)]"
   ]
  },
  {
   "attachments": {},
   "cell_type": "markdown",
   "metadata": {
    "id": "wCe87EqOYs9q"
   },
   "source": [
    "In other words, if we simply repeat each node $i$ in the list $k_i$ (degree of node $i$), then the probability of choosing node $i$ is proportional to $k_i$. As you can imagine, this is not the most efficient way to do this, but it's a start. "
   ]
  },
  {
   "attachments": {},
   "cell_type": "markdown",
   "metadata": {
    "id": "putSesFfYs9r"
   },
   "source": [
    "A more space-efficient way is using `numpy`'s sampling method. If you run the following cell, the documentation for the [`np.random.choice`](http://docs.scipy.org/doc/numpy/reference/generated/numpy.random.choice.html) function will appear. "
   ]
  },
  {
   "cell_type": "code",
   "execution_count": 5,
   "metadata": {
    "id": "qQEsSvShYs9s"
   },
   "outputs": [
    {
     "name": "stdout",
     "output_type": "stream",
     "text": [
      "\u001b[0;31mDocstring:\u001b[0m\n",
      "choice(a, size=None, replace=True, p=None)\n",
      "\n",
      "Generates a random sample from a given 1-D array\n",
      "\n",
      ".. versionadded:: 1.7.0\n",
      "\n",
      ".. note::\n",
      "    New code should use the `~numpy.random.Generator.choice`\n",
      "    method of a `~numpy.random.Generator` instance instead;\n",
      "    please see the :ref:`random-quick-start`.\n",
      "\n",
      "Parameters\n",
      "----------\n",
      "a : 1-D array-like or int\n",
      "    If an ndarray, a random sample is generated from its elements.\n",
      "    If an int, the random sample is generated as if it were ``np.arange(a)``\n",
      "size : int or tuple of ints, optional\n",
      "    Output shape.  If the given shape is, e.g., ``(m, n, k)``, then\n",
      "    ``m * n * k`` samples are drawn.  Default is None, in which case a\n",
      "    single value is returned.\n",
      "replace : boolean, optional\n",
      "    Whether the sample is with or without replacement. Default is True,\n",
      "    meaning that a value of ``a`` can be selected multiple times.\n",
      "p : 1-D array-like, optional\n",
      "    The probabilities associated with each entry in a.\n",
      "    If not given, the sample assumes a uniform distribution over all\n",
      "    entries in ``a``.\n",
      "\n",
      "Returns\n",
      "-------\n",
      "samples : single item or ndarray\n",
      "    The generated random samples\n",
      "\n",
      "Raises\n",
      "------\n",
      "ValueError\n",
      "    If a is an int and less than zero, if a or p are not 1-dimensional,\n",
      "    if a is an array-like of size 0, if p is not a vector of\n",
      "    probabilities, if a and p have different lengths, or if\n",
      "    replace=False and the sample size is greater than the population\n",
      "    size\n",
      "\n",
      "See Also\n",
      "--------\n",
      "randint, shuffle, permutation\n",
      "random.Generator.choice: which should be used in new code\n",
      "\n",
      "Notes\n",
      "-----\n",
      "Setting user-specified probabilities through ``p`` uses a more general but less\n",
      "efficient sampler than the default. The general sampler produces a different sample\n",
      "than the optimized sampler even if each element of ``p`` is 1 / len(a).\n",
      "\n",
      "Sampling random rows from a 2-D array is not possible with this function,\n",
      "but is possible with `Generator.choice` through its ``axis`` keyword.\n",
      "\n",
      "Examples\n",
      "--------\n",
      "Generate a uniform random sample from np.arange(5) of size 3:\n",
      "\n",
      ">>> np.random.choice(5, 3)\n",
      "array([0, 3, 4]) # random\n",
      ">>> #This is equivalent to np.random.randint(0,5,3)\n",
      "\n",
      "Generate a non-uniform random sample from np.arange(5) of size 3:\n",
      "\n",
      ">>> np.random.choice(5, 3, p=[0.1, 0, 0.3, 0.6, 0])\n",
      "array([3, 3, 0]) # random\n",
      "\n",
      "Generate a uniform random sample from np.arange(5) of size 3 without\n",
      "replacement:\n",
      "\n",
      ">>> np.random.choice(5, 3, replace=False)\n",
      "array([3,1,0]) # random\n",
      ">>> #This is equivalent to np.random.permutation(np.arange(5))[:3]\n",
      "\n",
      "Generate a non-uniform random sample from np.arange(5) of size\n",
      "3 without replacement:\n",
      "\n",
      ">>> np.random.choice(5, 3, replace=False, p=[0.1, 0, 0.3, 0.6, 0])\n",
      "array([2, 3, 0]) # random\n",
      "\n",
      "Any of the above can be repeated with an arbitrary array-like\n",
      "instead of just integers. For instance:\n",
      "\n",
      ">>> aa_milne_arr = ['pooh', 'rabbit', 'piglet', 'Christopher']\n",
      ">>> np.random.choice(aa_milne_arr, 5, p=[0.5, 0.1, 0.1, 0.3])\n",
      "array(['pooh', 'pooh', 'pooh', 'Christopher', 'piglet'], # random\n",
      "      dtype='<U11')\n",
      "\u001b[0;31mType:\u001b[0m      builtin_function_or_method"
     ]
    }
   ],
   "source": [
    "import numpy as np\n",
    "\n",
    "np.random.choice?"
   ]
  },
  {
   "attachments": {},
   "cell_type": "markdown",
   "metadata": {
    "id": "2_3vrd5FYs9s"
   },
   "source": [
    "It accepts `p` parameter and you can specifies the probability of each item in the list! So instead of creating"
   ]
  },
  {
   "cell_type": "code",
   "execution_count": null,
   "metadata": {
    "id": "wlCS5F9oYs9t"
   },
   "outputs": [],
   "source": [
    "alist = [1,1,1,1,1,1,2,2,2,3,3]"
   ]
  },
  {
   "attachments": {},
   "cell_type": "markdown",
   "metadata": {
    "id": "R8Mne9h1Ys9t"
   },
   "source": [
    "You can do the following. "
   ]
  },
  {
   "cell_type": "code",
   "execution_count": 6,
   "metadata": {
    "colab": {
     "base_uri": "https://localhost:8080/"
    },
    "executionInfo": {
     "elapsed": 165,
     "status": "ok",
     "timestamp": 1644860506513,
     "user": {
      "displayName": "Shubham Singh",
      "photoUrl": "https://lh3.googleusercontent.com/a-/AOh14GijoisQnjqkyk4XuiiLVRYCgmYcq1Gu2z5e_-09=s64",
      "userId": "12193469281340462671"
     },
     "user_tz": 300
    },
    "id": "AKsBZeY8Ys9u",
    "outputId": "9c6e807d-967e-4727-f6bd-5c81a325e7ef",
    "scrolled": true
   },
   "outputs": [
    {
     "data": {
      "text/plain": [
       "[0.5454545454545454, 0.2727272727272727, 0.18181818181818182]"
      ]
     },
     "execution_count": 6,
     "metadata": {},
     "output_type": "execute_result"
    }
   ],
   "source": [
    "nodes = [1,2,3]\n",
    "degrees = [6,3,2]\n",
    "sum_degrees = sum(degrees)\n",
    "node_probs = [degree*1.0/sum_degrees for node, degree in zip(nodes,degrees)] \n",
    "node_probs"
   ]
  },
  {
   "cell_type": "markdown",
   "metadata": {},
   "source": [
    "We can do more efficiently with numpy."
   ]
  },
  {
   "cell_type": "code",
   "execution_count": 15,
   "metadata": {},
   "outputs": [
    {
     "data": {
      "text/plain": [
       "array([0.54545455, 0.27272727, 0.18181818])"
      ]
     },
     "execution_count": 15,
     "metadata": {},
     "output_type": "execute_result"
    }
   ],
   "source": [
    "# using numpy to calculate the probabilities of each node more efficiently\n",
    "node_probs = np.array(degrees) / np.sum(degrees)\n",
    "node_probs"
   ]
  },
  {
   "cell_type": "markdown",
   "metadata": {},
   "source": [
    "Now, we can sample from the list with corresponding probability. "
   ]
  },
  {
   "cell_type": "code",
   "execution_count": 21,
   "metadata": {
    "colab": {
     "base_uri": "https://localhost:8080/"
    },
    "executionInfo": {
     "elapsed": 6,
     "status": "ok",
     "timestamp": 1644860506514,
     "user": {
      "displayName": "Shubham Singh",
      "photoUrl": "https://lh3.googleusercontent.com/a-/AOh14GijoisQnjqkyk4XuiiLVRYCgmYcq1Gu2z5e_-09=s64",
      "userId": "12193469281340462671"
     },
     "user_tz": 300
    },
    "id": "F4u8bSHEYs9u",
    "outputId": "3586ad0d-4b86-4eff-89ac-733a12afb4b6"
   },
   "outputs": [
    {
     "data": {
      "text/plain": [
       "[3, 1, 1, 2, 1, 1, 2, 1, 1, 1]"
      ]
     },
     "execution_count": 21,
     "metadata": {},
     "output_type": "execute_result"
    }
   ],
   "source": [
    "[np.random.choice(nodes, p=node_probs) for i in range(10)]"
   ]
  },
  {
   "attachments": {},
   "cell_type": "markdown",
   "metadata": {
    "id": "rvmljTQ6Ys9v"
   },
   "source": [
    "We can also sample multiple nodes at once (without replacement) from the list. "
   ]
  },
  {
   "cell_type": "code",
   "execution_count": 22,
   "metadata": {
    "colab": {
     "base_uri": "https://localhost:8080/"
    },
    "executionInfo": {
     "elapsed": 3,
     "status": "ok",
     "timestamp": 1644860506514,
     "user": {
      "displayName": "Shubham Singh",
      "photoUrl": "https://lh3.googleusercontent.com/a-/AOh14GijoisQnjqkyk4XuiiLVRYCgmYcq1Gu2z5e_-09=s64",
      "userId": "12193469281340462671"
     },
     "user_tz": 300
    },
    "id": "FGqHQ5duYs9v",
    "outputId": "13da7c37-ad5d-4f45-c7ed-d456e36ea9a5"
   },
   "outputs": [
    {
     "data": {
      "text/plain": [
       "array([2, 3])"
      ]
     },
     "execution_count": 22,
     "metadata": {},
     "output_type": "execute_result"
    }
   ],
   "source": [
    "np.random.choice(nodes, 2, replace=False, p=node_probs)"
   ]
  },
  {
   "attachments": {},
   "cell_type": "markdown",
   "metadata": {
    "id": "8lFnaZpkkS9Z"
   },
   "source": [
    "Ok, now the sampling can be done. How about the initial graph with `m0` nodes? `networkx` has a convenient function for that: https://networkx.org/documentation/stable/reference/generated/networkx.generators.classic.complete_graph.html \n",
    "\n",
    "**Q: Can you create a complete graph with 5 nodes and then check the edges to make sure you have the right graph?**"
   ]
  },
  {
   "cell_type": "code",
   "execution_count": 23,
   "metadata": {
    "colab": {
     "base_uri": "https://localhost:8080/"
    },
    "executionInfo": {
     "elapsed": 662,
     "status": "ok",
     "timestamp": 1644860507174,
     "user": {
      "displayName": "Shubham Singh",
      "photoUrl": "https://lh3.googleusercontent.com/a-/AOh14GijoisQnjqkyk4XuiiLVRYCgmYcq1Gu2z5e_-09=s64",
      "userId": "12193469281340462671"
     },
     "user_tz": 300
    },
    "id": "JbgsmrAcj72N",
    "outputId": "66fb5ee1-07cb-4d8b-d3d0-565ced1c0a82"
   },
   "outputs": [
    {
     "data": {
      "text/plain": [
       "EdgeView([(0, 1), (0, 2), (0, 3), (0, 4), (1, 2), (1, 3), (1, 4), (2, 3), (2, 4), (3, 4)])"
      ]
     },
     "execution_count": 23,
     "metadata": {},
     "output_type": "execute_result"
    }
   ],
   "source": [
    "# YOUR SOLUTION HERE"
   ]
  },
  {
   "attachments": {},
   "cell_type": "markdown",
   "metadata": {
    "id": "4xeLpD43Ys9v"
   },
   "source": [
    "Now you're ready to implement the BA algorithm! Create a fully-connected network with `m0` nodes. Then in each step, sample `m` nodes from the existing node pool. Add a new node and connect it to the chosen `m` nodes. \n",
    "\n",
    "**Q: Can you implement the BA algorithm?**"
   ]
  },
  {
   "cell_type": "code",
   "execution_count": 26,
   "metadata": {
    "id": "vClsd6d9Ys9w"
   },
   "outputs": [],
   "source": [
    "def barabasi_albert_graph(n, m0=5, m=2):\n",
    "    \"\"\"Create a BA network with n nodes, where each new node connects to \n",
    "    m existing nodes according to the preferential attachment rule. The initial\n",
    "    network is a clique (fully-connected network) with m0 nodes. \n",
    "    \"\"\"\n",
    "    # Initial network of m_o nodes (a complete graph)\n",
    "    # YOUR SOLUTION HERE\n",
    "\n",
    "    # Prepare a degree list and node probability list. Use numpy arrays for more efficient calculations.\n",
    "    # YOUR SOLUTION HERE\n",
    "\n",
    "    # Until network has n nodes, \n",
    "    # 1. *preferentially* sample m nodes from the network,\n",
    "    # 2. create a new node, \n",
    "    # 3. and connect the new node to the m selected nodes. \n",
    "\n",
    "    # YOUR SOLUTION HERE\n",
    "\n",
    "    return G        "
   ]
  },
  {
   "attachments": {},
   "cell_type": "markdown",
   "metadata": {
    "id": "_Jbyx4JyYs9w"
   },
   "source": [
    "## BA graph analysis\n",
    "\n",
    "**Q: Test your algorithm by creating a graph with $n = 1200$, $m_0 = 7$, and $m=2$. Calculate (and print) the average shortest path length of the graph:**"
   ]
  },
  {
   "cell_type": "code",
   "execution_count": 29,
   "metadata": {
    "id": "_-DFRrhyYs9w"
   },
   "outputs": [
    {
     "data": {
      "text/plain": [
       "3.9999513483458435"
      ]
     },
     "execution_count": 29,
     "metadata": {},
     "output_type": "execute_result"
    }
   ],
   "source": [
    "# YOUR SOLUTION HERE"
   ]
  },
  {
   "attachments": {},
   "cell_type": "markdown",
   "metadata": {
    "id": "cO3K1xxWYs9x"
   },
   "source": [
    "**Q: Calculate (and print) the average clustering coefficient of the graph.**"
   ]
  },
  {
   "cell_type": "code",
   "execution_count": 31,
   "metadata": {
    "colab": {
     "base_uri": "https://localhost:8080/"
    },
    "executionInfo": {
     "elapsed": 191,
     "status": "ok",
     "timestamp": 1644860510434,
     "user": {
      "displayName": "Shubham Singh",
      "photoUrl": "https://lh3.googleusercontent.com/a-/AOh14GijoisQnjqkyk4XuiiLVRYCgmYcq1Gu2z5e_-09=s64",
      "userId": "12193469281340462671"
     },
     "user_tz": 300
    },
    "id": "1GitJsGdYs9x",
    "outputId": "874011c9-3b25-4d11-bc6d-95dcb505e62a"
   },
   "outputs": [
    {
     "data": {
      "text/plain": [
       "0.03201703547323779"
      ]
     },
     "execution_count": 31,
     "metadata": {},
     "output_type": "execute_result"
    }
   ],
   "source": [
    "# YOUR SOLUTION HERE"
   ]
  },
  {
   "attachments": {},
   "cell_type": "markdown",
   "metadata": {
    "id": "6YIsMN0zYs9x"
   },
   "source": [
    "The [cumulative distribution function (CDF) and complementary cumulative distribution function (CCDF)](https://en.wikipedia.org/wiki/Cumulative_distribution_function) are among the most direct ways to identify a power-law-like distribution. Plot the **CCDF** of the graph's degree distribution. \n",
    "\n",
    "First, **CDF** for a discrete distribution is defined as the following:\n",
    "\n",
    "$$ F_X(x) = P(X \\le x) = \\sum_{x' \\le x} P(x') $$\n",
    "\n",
    "CCDF is it's reverse and is defined as following:\n",
    "\n",
    "$$\\bar F_X(x) = P(X > x) = \\sum_{x' > x} P(x') = 1 - F_X(x).$$"
   ]
  },
  {
   "cell_type": "code",
   "execution_count": 61,
   "metadata": {
    "colab": {
     "base_uri": "https://localhost:8080/",
     "height": 300
    },
    "executionInfo": {
     "elapsed": 1752,
     "status": "ok",
     "timestamp": 1644860512182,
     "user": {
      "displayName": "Shubham Singh",
      "photoUrl": "https://lh3.googleusercontent.com/a-/AOh14GijoisQnjqkyk4XuiiLVRYCgmYcq1Gu2z5e_-09=s64",
      "userId": "12193469281340462671"
     },
     "user_tz": 300
    },
    "id": "pu3WfD26Ys9y",
    "outputId": "0c42ba86-bc14-42f4-dced-7d2768b31cd9"
   },
   "outputs": [
    {
     "data": {
      "image/png": "[encoded data removed]",
      "text/plain": [
       "<Figure size 640x480 with 1 Axes>"
      ]
     },
     "metadata": {},
     "output_type": "display_data"
    }
   ],
   "source": [
    "import matplotlib.pyplot as plt\n",
    "\n",
    "def CCDF(degrees):\n",
    "    # YOUR SOLUTION HERE\n",
    "    pass\n",
    "\n",
    "\n",
    "# YOUR SOLUTION HERE\n"
   ]
  },
  {
   "attachments": {},
   "cell_type": "markdown",
   "metadata": {
    "id": "fhJSPdWfYs9y"
   },
   "source": [
    "## BA and ER comparison\n",
    "\n",
    "Now let's compare the scale-free and random graphs. Create a random graph with the same number of nodes and about the same number of edges, then calculate the average shortest path length of that graph:"
   ]
  },
  {
   "cell_type": "code",
   "execution_count": 62,
   "metadata": {},
   "outputs": [
    {
     "name": "stdout",
     "output_type": "stream",
     "text": [
      "number of nodes: 1000\n",
      "number of edges: 6972\n"
     ]
    }
   ],
   "source": [
    "G_BA = barabasi_albert_graph(1000, m0=7, m=7)\n",
    "print(\"number of nodes:\", G_BA.number_of_nodes())\n",
    "print(\"number of edges:\", G_BA.number_of_edges())"
   ]
  },
  {
   "cell_type": "code",
   "execution_count": 63,
   "metadata": {
    "colab": {
     "base_uri": "https://localhost:8080/"
    },
    "executionInfo": {
     "elapsed": 22799,
     "status": "ok",
     "timestamp": 1644860534979,
     "user": {
      "displayName": "Shubham Singh",
      "photoUrl": "https://lh3.googleusercontent.com/a-/AOh14GijoisQnjqkyk4XuiiLVRYCgmYcq1Gu2z5e_-09=s64",
      "userId": "12193469281340462671"
     },
     "user_tz": 300
    },
    "id": "3w7sjPKnYs9y",
    "outputId": "8e8b5e7b-882b-4454-e861-37c47c37f300"
   },
   "outputs": [
    {
     "name": "stdout",
     "output_type": "stream",
     "text": [
      "number of nodes: 1000\n",
      "number of edges: 6972\n"
     ]
    }
   ],
   "source": [
    "# you can use nx.gnm_random_graph(n, m) to create a random graph with n nodes and m edges.\n",
    "\n",
    "# YOUR SOLUTION HERE"
   ]
  },
  {
   "cell_type": "markdown",
   "metadata": {},
   "source": [
    "**Q: calculate the average path length in both graphs.**"
   ]
  },
  {
   "cell_type": "code",
   "execution_count": 64,
   "metadata": {},
   "outputs": [
    {
     "name": "stdout",
     "output_type": "stream",
     "text": [
      "Average shortest path length of G_BA: 2.73567967967968\n",
      "Average shortest path length of G_random: 2.8836036036036035\n"
     ]
    }
   ],
   "source": [
    "# YOUR SOLUTION HERE\n"
   ]
  },
  {
   "attachments": {},
   "cell_type": "markdown",
   "metadata": {
    "id": "_jpoPTy6Ys9z"
   },
   "source": [
    "Now plot the CCDF (for BA and ER) of the degree distribution of the random graph:"
   ]
  },
  {
   "cell_type": "code",
   "execution_count": 67,
   "metadata": {
    "colab": {
     "base_uri": "https://localhost:8080/",
     "height": 300
    },
    "executionInfo": {
     "elapsed": 730,
     "status": "ok",
     "timestamp": 1644860550564,
     "user": {
      "displayName": "Shubham Singh",
      "photoUrl": "https://lh3.googleusercontent.com/a-/AOh14GijoisQnjqkyk4XuiiLVRYCgmYcq1Gu2z5e_-09=s64",
      "userId": "12193469281340462671"
     },
     "user_tz": 300
    },
    "id": "0h5dCNw3Ys9z",
    "outputId": "5f2e5a1b-9439-4655-c894-0d48de2cbddc"
   },
   "outputs": [
    {
     "data": {
      "image/png": "[encoded data removed]",
      "text/plain": [
       "<Figure size 640x480 with 1 Axes>"
      ]
     },
     "metadata": {},
     "output_type": "display_data"
    }
   ],
   "source": [
    "# YOUR SOLUTION HERE\n"
   ]
  },
  {
   "attachments": {},
   "cell_type": "markdown",
   "metadata": {
    "id": "7O9-iutHYs9z"
   },
   "source": [
    "## Preferential attachment without using the degree\n",
    "\n",
    "As you know from the discussion and videos, it is possible to achieve the preferential attachment without calculating the degree by using the friendship paradox. Implement this version and see whether you can get a power-law degree distribution.  "
   ]
  },
  {
   "cell_type": "code",
   "execution_count": 68,
   "metadata": {
    "id": "CEY9rPiRYs90"
   },
   "outputs": [],
   "source": [
    "def barabasi_albert_graph_without_knowing_degrees(n, m0=5, m=2):\n",
    "    \"\"\"Create a BA network with n nodes, where each new node connects to \n",
    "    m existing nodes according to the preferential attachment rule. The initial\n",
    "    network is a clique (fully-connected network) with m0 nodes. \n",
    "\n",
    "    This function does not use the degree list and node probability list.\n",
    "    \"\"\"\n",
    "    # Create the initial network with m_o nodes (a complete graph)\n",
    "    # YOUR SOLUTION HERE\n",
    "\n",
    "    # now we add new nodes and grow the network by preferential attachment. \n",
    "    while(len(G.nodes()) < n):\n",
    "        # how would you do the preferential attachment without knowing the degree of the nodes?\n",
    "        new_node = len(G.nodes())\n",
    "        # YOUR SOLUTION HERE\n",
    "        \n",
    "    return G            "
   ]
  },
  {
   "cell_type": "markdown",
   "metadata": {},
   "source": [
    "**Q: build a network using this function and plot its CCDF to see if it has a power-law degree distribution.**"
   ]
  },
  {
   "cell_type": "code",
   "execution_count": 81,
   "metadata": {
    "colab": {
     "base_uri": "https://localhost:8080/",
     "height": 300
    },
    "executionInfo": {
     "elapsed": 1171,
     "status": "ok",
     "timestamp": 1644860914153,
     "user": {
      "displayName": "Shubham Singh",
      "photoUrl": "https://lh3.googleusercontent.com/a-/AOh14GijoisQnjqkyk4XuiiLVRYCgmYcq1Gu2z5e_-09=s64",
      "userId": "12193469281340462671"
     },
     "user_tz": 300
    },
    "id": "DGA0dWpppzHA",
    "outputId": "f9a3c1f7-2151-446e-9d5f-d0b3d3656d95"
   },
   "outputs": [
    {
     "data": {
      "image/png": "[encoded data removed]",
      "text/plain": [
       "<Figure size 640x480 with 1 Axes>"
      ]
     },
     "metadata": {},
     "output_type": "display_data"
    }
   ],
   "source": [
    "G = barabasi_albert_graph_without_knowing_degrees(5000, m0=7, m=4)\n",
    "\n",
    "# YOUR SOLUTION HERE\n"
   ]
  }
 ],
 "metadata": {
  "colab": {
   "provenance": []
  },
  "kernelspec": {
   "display_name": "Python 3",
   "language": "python",
   "name": "python3"
  },
  "language_info": {
   "codemirror_mode": {
    "name": "ipython",
    "version": 3
   },
   "file_extension": ".py",
   "mimetype": "text/x-python",
   "name": "python",
   "nbconvert_exporter": "python",
   "pygments_lexer": "ipython3",
   "version": "3.11.5"
  }
 },
 "nbformat": 4,
 "nbformat_minor": 0
}
