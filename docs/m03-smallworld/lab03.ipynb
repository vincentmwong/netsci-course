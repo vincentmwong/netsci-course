{
 "cells": [
  {
   "attachments": {},
   "cell_type": "markdown",
   "metadata": {
    "id": "qZYixNXYvPjf"
   },
   "source": [
    "# Small world assignment\n",
    "\n",
    "<div style=\"display: flex; align-items: center;\">\n",
    "    <a target=\"_blank\" href=\"https://colab.research.google.com/github/yy/netsci-course/blob/master/docs/m03-smallworld/lab03.ipynb\">\n",
    "        <img src=\"https://www.tensorflow.org/images/colab_logo_32px.png\" style=\"vertical-align: -8px; margin-right: 10px;\" />\n",
    "        Open this notebook in Google Colab\n",
    "    </a>\n",
    "</div>\n",
    "\n",
    "\n",
    "<div style=\"display: flex; align-items: center;\">\n",
    "    <a href=\"https://raw.githubusercontent.com/yy/netsci-course/master/docs/m03-smallworld/lab03.ipynb\" download>\n",
    "        <img src=\"http://yyahn.com/netsci-course/images/download_icon.png\" style=\"vertical-align: -8px; margin-right: 10px;\" />\n",
    "        Download this notebook (File -> Save As)\n",
    "    </a>\n",
    "</div>"
   ]
  },
  {
   "cell_type": "markdown",
   "metadata": {
    "id": "FvWP-BfRvPjh"
   },
   "source": [
    "In this assignment, we will get ourselves more familiar with mathematical ways to understand networks, playing with walks, paths, and small-worldness. \n",
    "\n",
    "Let's start with importing the necessary libraries.\n"
   ]
  },
  {
   "cell_type": "code",
   "execution_count": 2,
   "metadata": {},
   "outputs": [],
   "source": [
    "import numpy as np\n",
    "import matplotlib.pyplot as plt\n",
    "import networkx as nx\n"
   ]
  },
  {
   "cell_type": "markdown",
   "metadata": {},
   "source": [
    "## Adjacency matrix\n",
    "\n",
    "Adjacency matrix $\\mathbf{A}$ is an $N \\times N$ matrix, where each row $i$ corresponds to a node $i$ and each column $j$ corresponds to a node $j$. If the network is undirected and unweighted, the element $\\mathbf{A}_{ij}$ is 1 if there is an edge between node $i$ and node $j$, and 0 otherwise.\n",
    "\n",
    "In a directed graph, the element $\\mathbf{A}_{ij}$ can be used to represent either an edge from $i$ to $j$ or an edge from $j$ to $i$. We tend to use the latter ($j \\rightarrow i$) because this makes variuos matrix operations easier to understand (see WWND Ch. 25). \n",
    "\n",
    "### Edges and degrees\n",
    "\n",
    "Once you have an adjacency matrix, you can use it to compute various network properties. For example, the degree of a node $i$ is the sum of the elements in the $i$-th row (or column) of the adjacency matrix, i.e., $\\sum_j \\mathbf{A}_{ij}$.\n",
    "\n",
    "**Q: can you write how we can calculate the number of edges in a network using the adjacency matrix? Assume that the network is undirected and unweighted.**\n",
    "\n",
    "Explain as clearly as possible. If you're familiar with LaTeX, you can use LaTeX to write mathematical expressions."
   ]
  },
  {
   "cell_type": "markdown",
   "metadata": {},
   "source": [
    "<pre>\n",
    "# YOUR SOLUTION HERE\n",
    "</pre>"
   ]
  },
  {
   "cell_type": "markdown",
   "metadata": {},
   "source": [
    "### How to they look like?\n",
    "\n",
    "A useful exercise to build intuition into the adjacency matrix is to imagine how the adjacency matrix of a network would look like if we \"draw\" it. What I mean by that is to draw a square grid of size $N \\times N$, and then fill in the cells according to the adjacency matrix (e.g., black if 1 and white if 0).\n",
    "\n",
    "For instance, consider a random network where every edge is randomly placed with a probability $p$. What would the adjacency matrix look like? Think about it for a moment before you move on. Use the cell below to write down your thoughts (not graded). "
   ]
  },
  {
   "cell_type": "markdown",
   "metadata": {},
   "source": [
    "<pre>\n",
    "# YOUR SOLUTION HERE\n",
    "</pre>"
   ]
  },
  {
   "cell_type": "code",
   "execution_count": 3,
   "metadata": {},
   "outputs": [
    {
     "data": {
      "text/plain": [
       "<matplotlib.image.AxesImage at 0x11be9e010>"
      ]
     },
     "execution_count": 3,
     "metadata": {},
     "output_type": "execute_result"
    },
    {
     "data": {
      "image/png": "[encoded data removed]",
      "text/plain": [
       "<Figure size 640x480 with 1 Axes>"
      ]
     },
     "metadata": {},
     "output_type": "display_data"
    }
   ],
   "source": [
    "# We can draw the adjacency matrix of a graph using the imshow function from matplotlib\n",
    "N = 100\n",
    "p = 0.2\n",
    "G = nx.erdos_renyi_graph(N, p)\n",
    "A = nx.adjacency_matrix(G).todense()\n",
    "plt.imshow(A, cmap='Greys', interpolation='none')"
   ]
  },
  {
   "cell_type": "markdown",
   "metadata": {},
   "source": [
    "How about other types of graphs? What about a network with strong modular structure (if we reshuffle the rows and columns so that the structure is shown clearly)? How about DAG (directed acyclic graph)? How about bipartite graphs? \n",
    "\n",
    "It will be very useful for you to think about these questions and try to sketch the adjacency matrix of various types of networks. You can see some examples in WWND Ch. 25. "
   ]
  },
  {
   "cell_type": "markdown",
   "metadata": {},
   "source": [
    "### Walks and paths\n",
    "\n",
    "Adjacency matrix also allows us to mathematically think about walks and paths. The simplest case is a walk of length 1. \n",
    "\n",
    "Think about this question: How many walks of length 1 are there from node $i$ to node $j$?\n",
    "\n",
    "<details class=\"warning-class\"><summary>Solution</summary><p>It's just $\\mathbf{A}_{ji}$</p></details>\n",
    "\n",
    "How about walks of length 2? Think about it first before revealing the solution. \n",
    "\n",
    "<details class=\"warning-class\"><summary>Solution</summary><p>You need to go to a node (say $k$) that is connected to $i$ first. And then you need to be able to go from $k$ to $j$. Therefore, it's $\\sum_k \\mathbf{A}_{ik} \\mathbf{A}_{kj}$</p></details>\n",
    "\n",
    "**Q: Can you generalize this to walks of length $l$ from $i$ to $j$?** "
   ]
  },
  {
   "cell_type": "markdown",
   "metadata": {},
   "source": [
    "<pre>\n",
    "# YOUR SOLUTION HERE\n",
    "</pre>"
   ]
  },
  {
   "cell_type": "markdown",
   "metadata": {},
   "source": [
    "## Computing shortest paths\n",
    "\n",
    "It is interesting to see the link between the adjacency matrix and the number of walks with a certain length. For the shortest paths, it is much easier to think about the problem computationally and algorithmically, especially when the network involves weights and directions. Let's first think about the BFS (breadth-first search) algorithm. \n",
    "\n",
    "### BFS algorithm\n",
    "\n",
    "When the network is unweighted, we can compute the shortest path and distance between any pair of nodes using the BFS algorithm. The algorithm is simple:\n",
    "\n",
    "1. Start from the source node $s$ and set the distance to itself as 0.\n",
    "2. Set the distance to all other nodes as $\\infty$. Or you can simply keep a set/dictionary of distances and check whether you have visited the node before.\n",
    "3. Add the source node to the queue.\n",
    "4. While the queue is not empty, do the following:\n",
    "    1. Pop the first node from the queue.\n",
    "    2. For each neighbor of the popped node, if the distance is $\\infty$, set the distance to the distance of the popped node plus 1, and add the neighbor to the queue.\n",
    "\n",
    "If it is unclear why this works, I encourage you to try to run the algorithm on a piece of paper with a simple network and watch how the distance is updated. Also there are many good videos on YouTube that explain the BFS algorithm that you can watch as well!\n",
    "\n",
    "**Q: Can you write a Python function that computes, for every node, the shortest distance to a given node using the BFS algorithm?**"
   ]
  },
  {
   "cell_type": "code",
   "execution_count": 35,
   "metadata": {},
   "outputs": [
    {
     "name": "stdout",
     "output_type": "stream",
     "text": [
      "{0: 0, 1: 1, 2: 1, 3: 2, 4: 2}\n"
     ]
    }
   ],
   "source": [
    "def simple_bfs(G, source_node) -> dict:\n",
    "    # this function returns a dictionary with the distance from the source node \n",
    "    # to all other nodes. \n",
    "    # e.g., {0: 0, 1: 1, 2: 1, 3: 1} means that the distance from the source node \n",
    "    # to node 0 is 0, to node 1 is 1, and so on. \n",
    "    \n",
    "    distance_from_source = {}\n",
    "    nodes_to_explore = []       # the queue\n",
    "\n",
    "    # YOUR SOLUTION HERE\n",
    "\n",
    "    return distance_from_source\n",
    "\n",
    "# let's test the function\n",
    "G = nx.Graph()\n",
    "G.add_edges_from([(0, 1), (0,2), (1, 3), (3, 4), (1,4)])\n",
    "print(simple_bfs(G, 0))\n",
    "\n",
    "assert simple_bfs(G, 0) == {0: 0, 1: 1, 2: 1, 3: 2, 4: 2}  # this is the expected answer\n"
   ]
  },
  {
   "cell_type": "markdown",
   "metadata": {
    "id": "MwvW4PEQhj33"
   },
   "source": [
    "This function lets you compute the shortest path from a given node to all other nodes. We can now use this function to compute all possible shortest paths between every node pair, and then compute the average shortest path length. \n",
    "\n",
    "If we have $N$ nodes in our network, we have roughly $N^2$ shortest paths to compute. It is slow and also consumes a lot of memory. There is not a lot of things we can do to drastically reduce the computing time, but we can drastically reduce the memory usage if we only care about the average shortest path length. How would you do that? Think about it before you move on.\n",
    "\n",
    "<details class=\"warning-class\"><summary>Solution</summary><p>We can compute the shortest path length from a given node to all other nodes, and then keep only the counts of the shortest path lengths. In other words, instead keeping the dictionary that we had above, we can simply summarize it as: there is one node (0) with distance 0, two nodes (1, 2) with distance 1, and so on.</p></details>\n",
    "\n",
    "To do this, we can use the `collections.Counter` class. If you are not familiar with it, read about it here: https://docs.python.org/3/library/collections.html#collections.Counter What it can do can be done with a dictionary, but it is often much more convenient to use `Counter`.\n",
    "\n",
    "**Q: Can you write a Python function that computes the shortest path length from a given node to all other nodes, and then returns the summary as a `Counter`?**"
   ]
  },
  {
   "cell_type": "code",
   "execution_count": 36,
   "metadata": {
    "executionInfo": {
     "elapsed": 168,
     "status": "ok",
     "timestamp": 1642972731767,
     "user": {
      "displayName": "Ashutosh Hathidara",
      "photoUrl": "https://lh3.googleusercontent.com/a-/AOh14GiF8R551zAQvapFAWqdihe4-meSQy-KHh-aXiSf=s64",
      "userId": "09642124213384184129"
     },
     "user_tz": 300
    },
    "id": "c24vruOimmFN"
   },
   "outputs": [],
   "source": [
    "from collections import Counter\n",
    "def count_path_lengths(distances):\n",
    "    # YOUR SOLUTION HERE"
   ]
  },
  {
   "cell_type": "code",
   "execution_count": 37,
   "metadata": {
    "executionInfo": {
     "elapsed": 164,
     "status": "ok",
     "timestamp": 1642972733121,
     "user": {
      "displayName": "Ashutosh Hathidara",
      "photoUrl": "https://lh3.googleusercontent.com/a-/AOh14GiF8R551zAQvapFAWqdihe4-meSQy-KHh-aXiSf=s64",
      "userId": "09642124213384184129"
     },
     "user_tz": 300
    },
    "id": "6HqDT4s4n0mt"
   },
   "outputs": [],
   "source": [
    "# this should be satisfied. \n",
    "assert count_path_lengths({0: 0, 1: 1, 2: 1, 3: 2, 4: 2}) == Counter({0: 1, 1: 2, 2: 2})"
   ]
  },
  {
   "cell_type": "markdown",
   "metadata": {
    "id": "eqAXaGblvPjj"
   },
   "source": [
    "**Q: Can you write a Python function that computes the average shortest path length of a network using the above function?**"
   ]
  },
  {
   "cell_type": "code",
   "execution_count": 38,
   "metadata": {
    "colab": {
     "base_uri": "https://localhost:8080/"
    },
    "executionInfo": {
     "elapsed": 2986,
     "status": "ok",
     "timestamp": 1642972749540,
     "user": {
      "displayName": "Ashutosh Hathidara",
      "photoUrl": "https://lh3.googleusercontent.com/a-/AOh14GiF8R551zAQvapFAWqdihe4-meSQy-KHh-aXiSf=s64",
      "userId": "09642124213384184129"
     },
     "user_tz": 300
    },
    "id": "6R_NW2f7vPjj",
    "outputId": "921d5f70-b8bd-445f-f922-a5e9c17a2dcb"
   },
   "outputs": [
    {
     "name": "stdout",
     "output_type": "stream",
     "text": [
      "Counter({3: 52894, 4: 36370, 2: 9330, 1: 982, 5: 324, 0: 100})\n"
     ]
    }
   ],
   "source": [
    "# path_length_counter should be a Counter object with keys being path lengths \n",
    "# and values being the number of pairs with that path length.\n",
    "path_length_counter = Counter()\n",
    "G = nx.erdos_renyi_graph(1000, 0.01)\n",
    "\n",
    "# YOUR SOLUTION HERE\n",
    "    \n",
    "print(path_length_counter)"
   ]
  },
  {
   "cell_type": "markdown",
   "metadata": {
    "id": "3rksfTe3vPjk"
   },
   "source": [
    "### Visualizing the results\n",
    "\n",
    "Now that you have a list of the shortest paths for the graph, we can examine it by drawing a bar chart of shortest path length distribution. We can use the following snippets to draw the bar chart. "
   ]
  },
  {
   "cell_type": "code",
   "execution_count": 39,
   "metadata": {
    "colab": {
     "base_uri": "https://localhost:8080/"
    },
    "executionInfo": {
     "elapsed": 175,
     "status": "ok",
     "timestamp": 1642972757751,
     "user": {
      "displayName": "Ashutosh Hathidara",
      "photoUrl": "https://lh3.googleusercontent.com/a-/AOh14GiF8R551zAQvapFAWqdihe4-meSQy-KHh-aXiSf=s64",
      "userId": "09642124213384184129"
     },
     "user_tz": 300
    },
    "id": "o8uwvcx0peFD",
    "outputId": "a1b2127b-5228-4a32-e7c7-7ef293399fc6"
   },
   "outputs": [
    {
     "data": {
      "text/plain": [
       "dict_items([(0, 10), (1, 20), (2, 10), (3, 1)])"
      ]
     },
     "execution_count": 39,
     "metadata": {},
     "output_type": "execute_result"
    }
   ],
   "source": [
    "a_counter = Counter({0:10, 1:20, 2:10, 3:1})\n",
    "a_counter.items()"
   ]
  },
  {
   "cell_type": "code",
   "execution_count": 40,
   "metadata": {
    "colab": {
     "base_uri": "https://localhost:8080/"
    },
    "executionInfo": {
     "elapsed": 168,
     "status": "ok",
     "timestamp": 1642972759560,
     "user": {
      "displayName": "Ashutosh Hathidara",
      "photoUrl": "https://lh3.googleusercontent.com/a-/AOh14GiF8R551zAQvapFAWqdihe4-meSQy-KHh-aXiSf=s64",
      "userId": "09642124213384184129"
     },
     "user_tz": 300
    },
    "id": "9ErDs0wYpr3G",
    "outputId": "13833d36-0c24-48a1-ca4e-2492933be3e1"
   },
   "outputs": [
    {
     "data": {
      "text/plain": [
       "[(0, 1, 2, 3), (10, 20, 10, 1)]"
      ]
     },
     "execution_count": 40,
     "metadata": {},
     "output_type": "execute_result"
    }
   ],
   "source": [
    "list(zip(*a_counter.items()))"
   ]
  },
  {
   "cell_type": "markdown",
   "metadata": {},
   "source": [
    "**Q: Can you draw the bar chart for the shortest path length distribution of the network that we calculated above?**\n"
   ]
  },
  {
   "cell_type": "code",
   "execution_count": 41,
   "metadata": {
    "colab": {
     "base_uri": "https://localhost:8080/",
     "height": 296
    },
    "executionInfo": {
     "elapsed": 524,
     "status": "ok",
     "timestamp": 1642972761482,
     "user": {
      "displayName": "Ashutosh Hathidara",
      "photoUrl": "https://lh3.googleusercontent.com/a-/AOh14GiF8R551zAQvapFAWqdihe4-meSQy-KHh-aXiSf=s64",
      "userId": "09642124213384184129"
     },
     "user_tz": 300
    },
    "id": "tg48ZnacvPjk",
    "outputId": "1ea43293-4779-41ea-c43b-395627a49a5b"
   },
   "outputs": [
    {
     "data": {
      "image/png": "[encoded data removed]",
      "text/plain": [
       "<Figure size 640x480 with 1 Axes>"
      ]
     },
     "metadata": {},
     "output_type": "display_data"
    }
   ],
   "source": [
    "import matplotlib.pyplot as plt\n",
    "# YOUR SOLUTION HERE"
   ]
  },
  {
   "cell_type": "markdown",
   "metadata": {
    "id": "1Ct7Zr2WqGRC"
   },
   "source": [
    "**Q: We can now also calculate the average path length of the whole network by averaging the path lengths.**"
   ]
  },
  {
   "cell_type": "code",
   "execution_count": 42,
   "metadata": {
    "colab": {
     "base_uri": "https://localhost:8080/"
    },
    "executionInfo": {
     "elapsed": 176,
     "status": "ok",
     "timestamp": 1642972823987,
     "user": {
      "displayName": "Ashutosh Hathidara",
      "photoUrl": "https://lh3.googleusercontent.com/a-/AOh14GiF8R551zAQvapFAWqdihe4-meSQy-KHh-aXiSf=s64",
      "userId": "09642124213384184129"
     },
     "user_tz": 300
    },
    "id": "zWFWD7XnqLbX",
    "outputId": "093a2b2e-6a41-4807-bb36-de413856eab2"
   },
   "outputs": [
    {
     "name": "stdout",
     "output_type": "stream",
     "text": [
      "3.25424\n"
     ]
    }
   ],
   "source": [
    "# calculate the average path length from the path_length_counter\n",
    "# YOUR SOLUTION HERE\n",
    "print(average_path_length)\n"
   ]
  },
  {
   "cell_type": "markdown",
   "metadata": {
    "id": "XzgjpnW-ryMd"
   },
   "source": [
    "Can you make it as a function? "
   ]
  },
  {
   "cell_type": "code",
   "execution_count": 45,
   "metadata": {
    "executionInfo": {
     "elapsed": 178,
     "status": "ok",
     "timestamp": 1642972829355,
     "user": {
      "displayName": "Ashutosh Hathidara",
      "photoUrl": "https://lh3.googleusercontent.com/a-/AOh14GiF8R551zAQvapFAWqdihe4-meSQy-KHh-aXiSf=s64",
      "userId": "09642124213384184129"
     },
     "user_tz": 300
    },
    "id": "pJmoIEurvPjl"
   },
   "outputs": [
    {
     "data": {
      "text/plain": [
       "3.253168"
      ]
     },
     "execution_count": 45,
     "metadata": {},
     "output_type": "execute_result"
    }
   ],
   "source": [
    "def avg_path_length(G):\n",
    "    # YOUR SOLUTION HERE\n",
    "\n",
    "avg_path_length(G)"
   ]
  },
  {
   "cell_type": "markdown",
   "metadata": {},
   "source": [
    "Ok! Now you can compute the average shortest path length of a network! 🎉\n",
    "\n",
    "In practice, you'd not implement the BFS algorithm yourself, but use a library like NetworkX, igraph, graph-tools, etc. But, it is really good to understand what is happening under the hood! "
   ]
  },
  {
   "cell_type": "code",
   "execution_count": 46,
   "metadata": {},
   "outputs": [
    {
     "data": {
      "text/plain": [
       "3.2564244244244245"
      ]
     },
     "execution_count": 46,
     "metadata": {},
     "output_type": "execute_result"
    }
   ],
   "source": [
    "# Here's how you can do the same (average path length of a graph) with networkx\n",
    "nx.average_shortest_path_length(G)"
   ]
  },
  {
   "cell_type": "markdown",
   "metadata": {},
   "source": [
    "You may notice a small difference. I will leave it to you to identify why there is a difference (extra credit). "
   ]
  },
  {
   "cell_type": "markdown",
   "metadata": {
    "id": "793_3mbNdxwu"
   },
   "source": [
    "### How does it scale?\n",
    "\n",
    "Now go to https://icon.colorado.edu/#!/ and download multiple (at least three) networks that span a range of scale. For instance, pick a couple of networks with ~1000 nodes and then ~10000 nodes, and so on. Be careful with large networks! Calculating shortest paths is an expensive computation and it may take too much time (or not even finish)! Stick with not-so-large and not-too-small networks, but do experiment how far you can push. \n",
    "\n",
    "**Q: Using your code above, calculate the average path length of each network and also measure how long it takes.**\n",
    "\n",
    "You can use either `%%time` or `%%timeit` Jupyter magic commands or use a script. `%%timeit` runs the code multiple times to get a better estimate. So it may not be suitable for large networks. \n"
   ]
  },
  {
   "cell_type": "code",
   "execution_count": 49,
   "metadata": {
    "colab": {
     "base_uri": "https://localhost:8080/"
    },
    "executionInfo": {
     "elapsed": 4650,
     "status": "ok",
     "timestamp": 1642972870982,
     "user": {
      "displayName": "Ashutosh Hathidara",
      "photoUrl": "https://lh3.googleusercontent.com/a-/AOh14GiF8R551zAQvapFAWqdihe4-meSQy-KHh-aXiSf=s64",
      "userId": "09642124213384184129"
     },
     "user_tz": 300
    },
    "id": "-2AahtobeeCj",
    "outputId": "e2a3b187-d4c1-4907-b00d-9a7477921c91"
   },
   "outputs": [
    {
     "name": "stdout",
     "output_type": "stream",
     "text": [
      "24 ms ± 145 µs per loop (mean ± std. dev. of 7 runs, 10 loops each)\n"
     ]
    }
   ],
   "source": [
    "%%timeit\n",
    "total = 0\n",
    "for i in range(1000000):\n",
    "    total += i\n",
    "  "
   ]
  },
  {
   "cell_type": "code",
   "execution_count": 50,
   "metadata": {
    "colab": {
     "base_uri": "https://localhost:8080/"
    },
    "executionInfo": {
     "elapsed": 475,
     "status": "ok",
     "timestamp": 1642972875202,
     "user": {
      "displayName": "Ashutosh Hathidara",
      "photoUrl": "https://lh3.googleusercontent.com/a-/AOh14GiF8R551zAQvapFAWqdihe4-meSQy-KHh-aXiSf=s64",
      "userId": "09642124213384184129"
     },
     "user_tz": 300
    },
    "id": "2T98g9Vnsozd",
    "outputId": "05f0f564-090d-443e-8a78-8c0e74d948fc"
   },
   "outputs": [
    {
     "name": "stdout",
     "output_type": "stream",
     "text": [
      "CPU times: user 60.8 ms, sys: 1.11 ms, total: 62 ms\n",
      "Wall time: 61 ms\n"
     ]
    }
   ],
   "source": [
    "%%time\n",
    "total = 0\n",
    "for i in range(1000000):\n",
    "    total += i"
   ]
  },
  {
   "cell_type": "code",
   "execution_count": null,
   "metadata": {},
   "outputs": [],
   "source": [
    "# Use however many cells you need.\n",
    "\n",
    "# YOUR SOLUTION HERE"
   ]
  },
  {
   "cell_type": "markdown",
   "metadata": {
    "id": "w4dw218usswu"
   },
   "source": [
    "**Q: now make two plots that show two relationships.** \n",
    "\n",
    "The first one is about the relationship between the number of nodes in your networks and their average path length. Are they correlated? You can test whether they have a roughly logarithmic relationship $ d \\sim \\log N$ or not. \n",
    "\n",
    "The second one is about the execution time and the number of nodes ($|V|$) & the number of edges ($|E|$). Is it proportional to $|V|\\cdot|E|$? "
   ]
  },
  {
   "cell_type": "code",
   "execution_count": 14,
   "metadata": {
    "id": "xXXSnLKhtO8L"
   },
   "outputs": [],
   "source": [
    "# YOUR SOLUTION HERE"
   ]
  }
 ],
 "metadata": {
  "anaconda-cloud": {},
  "colab": {
   "collapsed_sections": [],
   "name": "m03-pathlength.ipynb",
   "provenance": [
    {
     "file_id": "1pnWYRFHs-g2lnHnkHrPtEJpm__Fa_9IK",
     "timestamp": 1642887851231
    },
    {
     "file_id": "https://github.com/yy/netsci-course/blob/master/m03-smallworld/shortest_path_length_distribution.ipynb",
     "timestamp": 1642887752640
    }
   ]
  },
  "kernelspec": {
   "display_name": "Python 3",
   "language": "python",
   "name": "python3"
  },
  "language_info": {
   "codemirror_mode": {
    "name": "ipython",
    "version": 3
   },
   "file_extension": ".py",
   "mimetype": "text/x-python",
   "name": "python",
   "nbconvert_exporter": "python",
   "pygments_lexer": "ipython3",
   "version": "3.11.5"
  },
  "vscode": {
   "interpreter": {
    "hash": "b0fa6594d8f4cbf19f97940f81e996739fb7646882a419484c72d19e05852a7e"
   }
  }
 },
 "nbformat": 4,
 "nbformat_minor": 0
}
